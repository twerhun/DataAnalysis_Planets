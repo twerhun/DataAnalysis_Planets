{
 "cells": [
  {
   "cell_type": "markdown",
   "id": "6fc2eb53",
   "metadata": {},
   "source": [
    "# Could Star Wars planets exist in our universe?"
   ]
  },
  {
   "cell_type": "markdown",
   "id": "d0ffbe48",
   "metadata": {},
   "source": [
    "## Part 3. Algorithm and Data Analysis"
   ]
  },
  {
   "cell_type": "markdown",
   "id": "46807ed5",
   "metadata": {},
   "source": [
    "<img src=\"https://i.postimg.cc/9XwnRV6Q/Rieekan.webp\"><p style='text-align: right'><font size=2>Picture source: https://starwars.fandom.com/wiki/Carlist_Rieekan</font></p>"
   ]
  },
  {
   "cell_type": "markdown",
   "id": "839aafe1",
   "metadata": {},
   "source": [
    "### Table of contents:\n",
    "1. Introduction\n",
    "2. Goal\n",
    "3. Methodology\n",
    "4. Similarity Algorithm\n",
    "5. Data analysis\n",
    "6. Summary"
   ]
  },
  {
   "cell_type": "markdown",
   "id": "2d5962e7",
   "metadata": {},
   "source": [
    "## 1. Introduction\n",
    "\n",
    "The path we took was long and bumpy, but at long last we are reaching our destination.\n",
    "\n",
    "So far we've managed to scrape information from the internet (wiki sites) to create two sets of data - one about Star Wars planets, the other about our exoplanets (**Part 1**). The datasets we've gathered were too heterogeneous and unstructured to compare. This is why we cleared and prepared them first in order to present them in standarized format (**Part 2**).\n",
    "\n",
    "Now it's time to reach the main goal of this project - to create an algorithm, that will find the most similar exoplanet to chosen Star Wars planet."
   ]
  },
  {
   "cell_type": "markdown",
   "id": "d1b06433",
   "metadata": {},
   "source": [
    "## 2. Goal\n",
    "\n",
    "The goal of this part is to obtain stable, working algorithm that will find the most similar exoplanet.\n",
    "\n",
    "To achieve that I wil firstly explain my methodology and vision of this algorithm. After that I will write the code, explain how it works and test it on selected planets.\n",
    "\n",
    "Lastly I will conduct small data analysis based on gathered similarity data."
   ]
  },
  {
   "cell_type": "markdown",
   "id": "7c06da8e",
   "metadata": {},
   "source": [
    "## 3. Methodology\n",
    "\n",
    "Before starting this part I thought about what has to be done. The best way to find the most similar planet to chosen one is to compare chosen planet to every other exoplanet first, and describe level of similarity by some value. After consideration I decided to choose one of the most common methodology for comparing two numbers - the one that is both simple and standarized enough (the same value range for every element): **percentage**. If we take minimal value from the set of two numbers to compare, multiply it by 100 and divide by maximum value from the set - we get the percentage value representing their relation. 100% will mean the same value - lesser the value, lesser the similarity between two numbers. Simple and efficient.\n",
    "\n",
    "The only thing remaining is finding exoplanet with maximum similarity rate to chosen Star Wars planet. There are two catches though:\n",
    "- what if there are two planets (or more) with exact same, maximum similarity rate value?\n",
    "- what if we will be comparing Star Wars planet with complete data (both orbital period and diameter values present) to exoplanet with incomplete data (only one of those parameters present)?  \n",
    "\n",
    "First problem is simple to solve. If there are multiple planets with maximum values we simply need to present them all. \n",
    "\n",
    "What about second problem though? My concern is that it's much easier to calculate similarity based on one value. But it doesn't necessarily tell us what we need to know. I assume that exoplanets with incomplete data will tend to have high similarity rates in general. But if there is a **possibility to compare both orbital period and diameter**, I want the algorithm to list **the most similar exoplanet with complete data** as well.\n",
    "\n",
    "This is why next to array with similarity rates I will create an array containing similarity rates with exoplanets filtered to only those exoplanets with complete set of data. Based on those two sets I will be able to create desired algorithm.\n",
    "\n",
    "After algorithm is complete and tested I will create **Closest Planets** table containing data about all Star Wars planets, the most similar exoplanets to them and their similarity rates. However, knowing that comparing incomplete data does not give us 100% precise information, I will make second table (**Complete Data Planets**) containing only those planets (both Star Wars and exoplanets) with **complete set of data** (obrital period value and diameter value) and their similarity rates. This table will be definitely smaller, but the information contained in it will be much more accurate and reliable. Based on those two data sets I will conduct small data analysis of chosen aspects.\n",
    "\n",
    "To sum this all up those are my steps I will follow in next chapters:\n",
    "\n",
    "- Creating similarity rate tables:\n",
    "  - calculate similarity rate with all exoplanets (rows) for all Star wars planets (columns)\n",
    "    - similarity rate will be described as percentage value and calculated by following formula:  \n",
    "  (min value)*100/(max value) [%]\n",
    "    - if planet has only orbital period data, only this value will be compared with exoplanet (if present)\n",
    "    - if planet has only diameter data, only this value will be compared with exoplanet (if present)\n",
    "    - if planet has complete data, either one of them will be compared with exoplanet (depending of presence) or both - then it will be calculated as **mean** similarity percentage.\n",
    "    - if there is no corresponding data to compare, similarity rate will be 0%\n",
    "  - create two dataframes (for all exoplanet data and for complete only exoplanet data) based on described scheme\n",
    "\n",
    "\n",
    "- Creating similarity algorithm:\n",
    "  - algorithm will find exoplanet with max similarity value for chosen Star Wars planet\n",
    "  - if multiple planets have max similarity value, all of them will be listed\n",
    "  - if star wars planet has complete data, and planet with max similarity rate has incomplete data - additional exoplanet (with complete data) will be listed as well\n",
    "  - the outcome of prepared algorithm will be table containing information about orbital period, diameter and similarity rate for all listed planets\n",
    "  \n",
    "\n",
    "- Data analysis\n",
    "  - create **closest planets** table containing exoplanets with maximal similarity rate (and their similarity rate) for each star wars planet\n",
    "  - create **complete data planets** table containing exoplanets with maximal similarity rate (and their similarity rate) for each star wars planet - only for planets with complete set of data.\n",
    "  - create a chart presenting number of representations for different similarity levels\n",
    "  - create a chart presenting number of exoplanets with similarity rate >90% for each star wars planet\n",
    "  - create a chart presenting number of representations of each exoplanet\n",
    "  - create a chart presenting number of representations of each exoplanet for planets with complete data\n",
    "\n",
    "\n"
   ]
  },
  {
   "cell_type": "markdown",
   "id": "364bce41",
   "metadata": {},
   "source": [
    "## 4. Similarity algorithm"
   ]
  },
  {
   "cell_type": "code",
   "execution_count": 1,
   "id": "f5536b66",
   "metadata": {},
   "outputs": [],
   "source": [
    "import pandas as pd\n",
    "import numpy as np\n",
    "import matplotlib.pyplot as plt"
   ]
  },
  {
   "cell_type": "markdown",
   "id": "512e444d",
   "metadata": {},
   "source": [
    "We have already prepared and cleaned data from **Part 2** of this project. It will be our basis for calculating similarity rates."
   ]
  },
  {
   "cell_type": "code",
   "execution_count": 2,
   "id": "3bf93b98",
   "metadata": {},
   "outputs": [],
   "source": [
    "swPlanets = pd.read_csv('./Cleaned_StarWarsPlanets.csv', index_col=0).dropna(axis=0, how='all').fillna('')\n",
    "exoPlanets = pd.read_csv('./Cleaned_Exoplanets.csv', index_col=0).dropna(axis=0, how='all').fillna('')"
   ]
  },
  {
   "cell_type": "markdown",
   "id": "fc0a3241",
   "metadata": {},
   "source": [
    "Our first step is creating function that will assign similarity rate value for all Star Wars planets and exoplanets. As I described in **Methodology** chapter I will design different possibilities depending on data availability."
   ]
  },
  {
   "cell_type": "code",
   "execution_count": 3,
   "id": "2863fe44",
   "metadata": {},
   "outputs": [],
   "source": [
    "def similarity(swp, exp):\n",
    "    similarRate = {}\n",
    "    for i in swp.index:\n",
    "        planetList = []\n",
    "        sorb = swPlanets.loc[i]['Orbital period [d]']\n",
    "        sdia = swPlanets.loc[i]['Diameter [km]']\n",
    "        #for incomplete data - diameter missing\n",
    "        if sorb!='' and sdia=='':\n",
    "            for j in exp.index:\n",
    "                eorb = exoPlanets.loc[j]['Orbital period [d]']\n",
    "                edia = exoPlanets.loc[j]['Diameter [km]']\n",
    "                #checking ig it's possible to compare orbital period\n",
    "                if eorb!='':\n",
    "                    planetList.append(min(sorb,eorb)*100/max(sorb,eorb))\n",
    "                else:\n",
    "                    planetList.append(0)\n",
    "        #for incomplete data - orbital period missing\n",
    "        elif sorb=='' and sdia!='':\n",
    "            for j in exp.index:\n",
    "                eorb = exoPlanets.loc[j]['Orbital period [d]']\n",
    "                edia = exoPlanets.loc[j]['Diameter [km]']\n",
    "                #checking if it's possible to compare diameter\n",
    "                if edia!='':\n",
    "                    planetList.append(min(sdia,edia)*100/max(sdia,edia))\n",
    "                else:\n",
    "                    planetList.append(0)\n",
    "        #for complete data\n",
    "        else:\n",
    "            for j in exp.index:\n",
    "                eorb = exoPlanets.loc[j]['Orbital period [d]']\n",
    "                edia = exoPlanets.loc[j]['Diameter [km]']\n",
    "                #for incomplete exoplanets data - diameter missing\n",
    "                if eorb!='' and edia=='':\n",
    "                    planetList.append(min(sorb,eorb)*100/max(sorb,eorb))\n",
    "                #for incomplete exoplanets data - orbital period missing\n",
    "                elif eorb=='' and edia!='':\n",
    "                    planetList.append(min(sdia,edia)*100/max(sdia,edia))\n",
    "                #for complete exoplanets data\n",
    "                else:\n",
    "                    planetList.append((min(sorb,eorb)*100/max(sorb,eorb)+min(sdia,edia)*100/max(sdia,edia))/2)\n",
    "        similarRate[i] = planetList\n",
    "    return similarRate"
   ]
  },
  {
   "cell_type": "markdown",
   "id": "bfe11bb4",
   "metadata": {},
   "source": [
    "This function can be probably written down in less than 42 lines (I'm pretty sure actually) but I wanted to make it as clear and transparent as possible. We were able to consider all possible scenarios. Now let's check how it works by creating similarity data table:"
   ]
  },
  {
   "cell_type": "code",
   "execution_count": 4,
   "id": "299be7f6",
   "metadata": {},
   "outputs": [
    {
     "data": {
      "text/html": [
       "<div>\n",
       "<style scoped>\n",
       "    .dataframe tbody tr th:only-of-type {\n",
       "        vertical-align: middle;\n",
       "    }\n",
       "\n",
       "    .dataframe tbody tr th {\n",
       "        vertical-align: top;\n",
       "    }\n",
       "\n",
       "    .dataframe thead th {\n",
       "        text-align: right;\n",
       "    }\n",
       "</style>\n",
       "<table border=\"1\" class=\"dataframe\">\n",
       "  <thead>\n",
       "    <tr style=\"text-align: right;\">\n",
       "      <th></th>\n",
       "      <th>Abafar</th>\n",
       "      <th>Alderaan</th>\n",
       "      <th>Aleen</th>\n",
       "      <th>Asmeru</th>\n",
       "      <th>Atollon</th>\n",
       "      <th>Auratera</th>\n",
       "      <th>Bardotta</th>\n",
       "      <th>Batuu</th>\n",
       "      <th>Bespin</th>\n",
       "      <th>Cato Neimoidia</th>\n",
       "      <th>...</th>\n",
       "      <th>Taanab</th>\n",
       "      <th>Takodana</th>\n",
       "      <th>Tatooine</th>\n",
       "      <th>Toydaria</th>\n",
       "      <th>Utapau</th>\n",
       "      <th>Vandor</th>\n",
       "      <th>Vlemoth Port</th>\n",
       "      <th>Weik</th>\n",
       "      <th>Xorrn</th>\n",
       "      <th>Yavin Prime</th>\n",
       "    </tr>\n",
       "  </thead>\n",
       "  <tbody>\n",
       "    <tr>\n",
       "      <th>Kepler-42c</th>\n",
       "      <td>0.768488</td>\n",
       "      <td>37.309785</td>\n",
       "      <td>0.113606</td>\n",
       "      <td>0.093192</td>\n",
       "      <td>0.089760</td>\n",
       "      <td>0.161888</td>\n",
       "      <td>0.074554</td>\n",
       "      <td>36.579271</td>\n",
       "      <td>1.618923</td>\n",
       "      <td>0.156522</td>\n",
       "      <td>...</td>\n",
       "      <td>35.606834</td>\n",
       "      <td>38.584259</td>\n",
       "      <td>44.565142</td>\n",
       "      <td>0.246352</td>\n",
       "      <td>36.157129</td>\n",
       "      <td>37.299622</td>\n",
       "      <td>0.177065</td>\n",
       "      <td>0.182777</td>\n",
       "      <td>0.086176</td>\n",
       "      <td>4.655940</td>\n",
       "    </tr>\n",
       "    <tr>\n",
       "      <th>55 Cancri e</th>\n",
       "      <td>1.973857</td>\n",
       "      <td>26.232668</td>\n",
       "      <td>0.184598</td>\n",
       "      <td>0.151428</td>\n",
       "      <td>0.145851</td>\n",
       "      <td>0.263053</td>\n",
       "      <td>0.121143</td>\n",
       "      <td>26.755020</td>\n",
       "      <td>2.630628</td>\n",
       "      <td>0.254333</td>\n",
       "      <td>...</td>\n",
       "      <td>27.426899</td>\n",
       "      <td>25.466576</td>\n",
       "      <td>21.998429</td>\n",
       "      <td>0.400297</td>\n",
       "      <td>27.072623</td>\n",
       "      <td>26.216154</td>\n",
       "      <td>0.287714</td>\n",
       "      <td>0.296995</td>\n",
       "      <td>0.140028</td>\n",
       "      <td>11.958750</td>\n",
       "    </tr>\n",
       "    <tr>\n",
       "      <th>WASP-19b</th>\n",
       "      <td>16.355000</td>\n",
       "      <td>3.262122</td>\n",
       "      <td>0.197704</td>\n",
       "      <td>0.162179</td>\n",
       "      <td>0.156206</td>\n",
       "      <td>0.281729</td>\n",
       "      <td>0.129743</td>\n",
       "      <td>3.324901</td>\n",
       "      <td>2.818125</td>\n",
       "      <td>0.272390</td>\n",
       "      <td>...</td>\n",
       "      <td>3.369023</td>\n",
       "      <td>3.236296</td>\n",
       "      <td>2.770076</td>\n",
       "      <td>0.428717</td>\n",
       "      <td>3.367056</td>\n",
       "      <td>3.244436</td>\n",
       "      <td>0.308141</td>\n",
       "      <td>0.318081</td>\n",
       "      <td>0.149970</td>\n",
       "      <td>99.087912</td>\n",
       "    </tr>\n",
       "    <tr>\n",
       "      <th>WASP-43b</th>\n",
       "      <td>12.272150</td>\n",
       "      <td>4.314740</td>\n",
       "      <td>0.203879</td>\n",
       "      <td>0.167245</td>\n",
       "      <td>0.161085</td>\n",
       "      <td>0.290528</td>\n",
       "      <td>0.133796</td>\n",
       "      <td>4.398494</td>\n",
       "      <td>2.905907</td>\n",
       "      <td>0.280897</td>\n",
       "      <td>...</td>\n",
       "      <td>4.469855</td>\n",
       "      <td>4.257683</td>\n",
       "      <td>3.652546</td>\n",
       "      <td>0.442107</td>\n",
       "      <td>4.453374</td>\n",
       "      <td>4.296502</td>\n",
       "      <td>0.317765</td>\n",
       "      <td>0.328015</td>\n",
       "      <td>0.154654</td>\n",
       "      <td>74.351680</td>\n",
       "    </tr>\n",
       "    <tr>\n",
       "      <th>Kepler-10b</th>\n",
       "      <td>1.547504</td>\n",
       "      <td>33.446027</td>\n",
       "      <td>0.209898</td>\n",
       "      <td>0.172182</td>\n",
       "      <td>0.165841</td>\n",
       "      <td>0.299105</td>\n",
       "      <td>0.137746</td>\n",
       "      <td>34.112332</td>\n",
       "      <td>2.991133</td>\n",
       "      <td>0.289190</td>\n",
       "      <td>...</td>\n",
       "      <td>34.974706</td>\n",
       "      <td>32.459162</td>\n",
       "      <td>28.042448</td>\n",
       "      <td>0.455160</td>\n",
       "      <td>34.516880</td>\n",
       "      <td>33.427251</td>\n",
       "      <td>0.327146</td>\n",
       "      <td>0.337700</td>\n",
       "      <td>0.159220</td>\n",
       "      <td>9.375660</td>\n",
       "    </tr>\n",
       "  </tbody>\n",
       "</table>\n",
       "<p>5 rows × 58 columns</p>\n",
       "</div>"
      ],
      "text/plain": [
       "                Abafar   Alderaan     Aleen    Asmeru   Atollon  Auratera  \\\n",
       "Kepler-42c    0.768488  37.309785  0.113606  0.093192  0.089760  0.161888   \n",
       "55 Cancri e   1.973857  26.232668  0.184598  0.151428  0.145851  0.263053   \n",
       "WASP-19b     16.355000   3.262122  0.197704  0.162179  0.156206  0.281729   \n",
       "WASP-43b     12.272150   4.314740  0.203879  0.167245  0.161085  0.290528   \n",
       "Kepler-10b    1.547504  33.446027  0.209898  0.172182  0.165841  0.299105   \n",
       "\n",
       "             Bardotta      Batuu    Bespin  Cato Neimoidia  ...     Taanab  \\\n",
       "Kepler-42c   0.074554  36.579271  1.618923        0.156522  ...  35.606834   \n",
       "55 Cancri e  0.121143  26.755020  2.630628        0.254333  ...  27.426899   \n",
       "WASP-19b     0.129743   3.324901  2.818125        0.272390  ...   3.369023   \n",
       "WASP-43b     0.133796   4.398494  2.905907        0.280897  ...   4.469855   \n",
       "Kepler-10b   0.137746  34.112332  2.991133        0.289190  ...  34.974706   \n",
       "\n",
       "              Takodana   Tatooine  Toydaria     Utapau     Vandor  \\\n",
       "Kepler-42c   38.584259  44.565142  0.246352  36.157129  37.299622   \n",
       "55 Cancri e  25.466576  21.998429  0.400297  27.072623  26.216154   \n",
       "WASP-19b      3.236296   2.770076  0.428717   3.367056   3.244436   \n",
       "WASP-43b      4.257683   3.652546  0.442107   4.453374   4.296502   \n",
       "Kepler-10b   32.459162  28.042448  0.455160  34.516880  33.427251   \n",
       "\n",
       "             Vlemoth Port      Weik     Xorrn  Yavin Prime  \n",
       "Kepler-42c       0.177065  0.182777  0.086176     4.655940  \n",
       "55 Cancri e      0.287714  0.296995  0.140028    11.958750  \n",
       "WASP-19b         0.308141  0.318081  0.149970    99.087912  \n",
       "WASP-43b         0.317765  0.328015  0.154654    74.351680  \n",
       "Kepler-10b       0.327146  0.337700  0.159220     9.375660  \n",
       "\n",
       "[5 rows x 58 columns]"
      ]
     },
     "execution_count": 4,
     "metadata": {},
     "output_type": "execute_result"
    }
   ],
   "source": [
    "#creating array with similarity rates\n",
    "similarityData = pd.DataFrame(index=exoPlanets.index, data = similarity(swPlanets, exoPlanets))\n",
    "similarityData.head()"
   ]
  },
  {
   "cell_type": "markdown",
   "id": "3b536395",
   "metadata": {},
   "source": [
    "Looks good. Every raw represents similarity rate of corresponding column (Star Wars planet) and index (exoplanet). If there is no similarity (data were unable to compare) similarity rate = 0.\n",
    "\n",
    "As I explained in Methodology chapter, I will also need similarity rate table made only for exoplanets with complete set of data as well. Let's filter exoplanets dataframe and make a second similarity rate table:"
   ]
  },
  {
   "cell_type": "code",
   "execution_count": 5,
   "id": "5fa35fdd",
   "metadata": {},
   "outputs": [
    {
     "data": {
      "text/html": [
       "<div>\n",
       "<style scoped>\n",
       "    .dataframe tbody tr th:only-of-type {\n",
       "        vertical-align: middle;\n",
       "    }\n",
       "\n",
       "    .dataframe tbody tr th {\n",
       "        vertical-align: top;\n",
       "    }\n",
       "\n",
       "    .dataframe thead th {\n",
       "        text-align: right;\n",
       "    }\n",
       "</style>\n",
       "<table border=\"1\" class=\"dataframe\">\n",
       "  <thead>\n",
       "    <tr style=\"text-align: right;\">\n",
       "      <th></th>\n",
       "      <th>Abafar</th>\n",
       "      <th>Alderaan</th>\n",
       "      <th>Aleen</th>\n",
       "      <th>Asmeru</th>\n",
       "      <th>Atollon</th>\n",
       "      <th>Auratera</th>\n",
       "      <th>Bardotta</th>\n",
       "      <th>Batuu</th>\n",
       "      <th>Bespin</th>\n",
       "      <th>Cato Neimoidia</th>\n",
       "      <th>...</th>\n",
       "      <th>Taanab</th>\n",
       "      <th>Takodana</th>\n",
       "      <th>Tatooine</th>\n",
       "      <th>Toydaria</th>\n",
       "      <th>Utapau</th>\n",
       "      <th>Vandor</th>\n",
       "      <th>Vlemoth Port</th>\n",
       "      <th>Weik</th>\n",
       "      <th>Xorrn</th>\n",
       "      <th>Yavin Prime</th>\n",
       "    </tr>\n",
       "  </thead>\n",
       "  <tbody>\n",
       "    <tr>\n",
       "      <th>Kepler-42c</th>\n",
       "      <td>0.768488</td>\n",
       "      <td>37.309785</td>\n",
       "      <td>0.113606</td>\n",
       "      <td>0.093192</td>\n",
       "      <td>0.089760</td>\n",
       "      <td>0.161888</td>\n",
       "      <td>0.074554</td>\n",
       "      <td>36.579271</td>\n",
       "      <td>1.618923</td>\n",
       "      <td>0.156522</td>\n",
       "      <td>...</td>\n",
       "      <td>35.606834</td>\n",
       "      <td>38.584259</td>\n",
       "      <td>44.565142</td>\n",
       "      <td>0.246352</td>\n",
       "      <td>36.157129</td>\n",
       "      <td>37.299622</td>\n",
       "      <td>0.177065</td>\n",
       "      <td>0.182777</td>\n",
       "      <td>0.086176</td>\n",
       "      <td>4.655940</td>\n",
       "    </tr>\n",
       "    <tr>\n",
       "      <th>55 Cancri e</th>\n",
       "      <td>1.973857</td>\n",
       "      <td>26.232668</td>\n",
       "      <td>0.184598</td>\n",
       "      <td>0.151428</td>\n",
       "      <td>0.145851</td>\n",
       "      <td>0.263053</td>\n",
       "      <td>0.121143</td>\n",
       "      <td>26.755020</td>\n",
       "      <td>2.630628</td>\n",
       "      <td>0.254333</td>\n",
       "      <td>...</td>\n",
       "      <td>27.426899</td>\n",
       "      <td>25.466576</td>\n",
       "      <td>21.998429</td>\n",
       "      <td>0.400297</td>\n",
       "      <td>27.072623</td>\n",
       "      <td>26.216154</td>\n",
       "      <td>0.287714</td>\n",
       "      <td>0.296995</td>\n",
       "      <td>0.140028</td>\n",
       "      <td>11.958750</td>\n",
       "    </tr>\n",
       "    <tr>\n",
       "      <th>WASP-19b</th>\n",
       "      <td>16.355000</td>\n",
       "      <td>3.262122</td>\n",
       "      <td>0.197704</td>\n",
       "      <td>0.162179</td>\n",
       "      <td>0.156206</td>\n",
       "      <td>0.281729</td>\n",
       "      <td>0.129743</td>\n",
       "      <td>3.324901</td>\n",
       "      <td>2.818125</td>\n",
       "      <td>0.272390</td>\n",
       "      <td>...</td>\n",
       "      <td>3.369023</td>\n",
       "      <td>3.236296</td>\n",
       "      <td>2.770076</td>\n",
       "      <td>0.428717</td>\n",
       "      <td>3.367056</td>\n",
       "      <td>3.244436</td>\n",
       "      <td>0.308141</td>\n",
       "      <td>0.318081</td>\n",
       "      <td>0.149970</td>\n",
       "      <td>99.087912</td>\n",
       "    </tr>\n",
       "    <tr>\n",
       "      <th>WASP-43b</th>\n",
       "      <td>12.272150</td>\n",
       "      <td>4.314740</td>\n",
       "      <td>0.203879</td>\n",
       "      <td>0.167245</td>\n",
       "      <td>0.161085</td>\n",
       "      <td>0.290528</td>\n",
       "      <td>0.133796</td>\n",
       "      <td>4.398494</td>\n",
       "      <td>2.905907</td>\n",
       "      <td>0.280897</td>\n",
       "      <td>...</td>\n",
       "      <td>4.469855</td>\n",
       "      <td>4.257683</td>\n",
       "      <td>3.652546</td>\n",
       "      <td>0.442107</td>\n",
       "      <td>4.453374</td>\n",
       "      <td>4.296502</td>\n",
       "      <td>0.317765</td>\n",
       "      <td>0.328015</td>\n",
       "      <td>0.154654</td>\n",
       "      <td>74.351680</td>\n",
       "    </tr>\n",
       "    <tr>\n",
       "      <th>Kepler-10b</th>\n",
       "      <td>1.547504</td>\n",
       "      <td>33.446027</td>\n",
       "      <td>0.209898</td>\n",
       "      <td>0.172182</td>\n",
       "      <td>0.165841</td>\n",
       "      <td>0.299105</td>\n",
       "      <td>0.137746</td>\n",
       "      <td>34.112332</td>\n",
       "      <td>2.991133</td>\n",
       "      <td>0.289190</td>\n",
       "      <td>...</td>\n",
       "      <td>34.974706</td>\n",
       "      <td>32.459162</td>\n",
       "      <td>28.042448</td>\n",
       "      <td>0.455160</td>\n",
       "      <td>34.516880</td>\n",
       "      <td>33.427251</td>\n",
       "      <td>0.327146</td>\n",
       "      <td>0.337700</td>\n",
       "      <td>0.159220</td>\n",
       "      <td>9.375660</td>\n",
       "    </tr>\n",
       "  </tbody>\n",
       "</table>\n",
       "<p>5 rows × 58 columns</p>\n",
       "</div>"
      ],
      "text/plain": [
       "                Abafar   Alderaan     Aleen    Asmeru   Atollon  Auratera  \\\n",
       "Kepler-42c    0.768488  37.309785  0.113606  0.093192  0.089760  0.161888   \n",
       "55 Cancri e   1.973857  26.232668  0.184598  0.151428  0.145851  0.263053   \n",
       "WASP-19b     16.355000   3.262122  0.197704  0.162179  0.156206  0.281729   \n",
       "WASP-43b     12.272150   4.314740  0.203879  0.167245  0.161085  0.290528   \n",
       "Kepler-10b    1.547504  33.446027  0.209898  0.172182  0.165841  0.299105   \n",
       "\n",
       "             Bardotta      Batuu    Bespin  Cato Neimoidia  ...     Taanab  \\\n",
       "Kepler-42c   0.074554  36.579271  1.618923        0.156522  ...  35.606834   \n",
       "55 Cancri e  0.121143  26.755020  2.630628        0.254333  ...  27.426899   \n",
       "WASP-19b     0.129743   3.324901  2.818125        0.272390  ...   3.369023   \n",
       "WASP-43b     0.133796   4.398494  2.905907        0.280897  ...   4.469855   \n",
       "Kepler-10b   0.137746  34.112332  2.991133        0.289190  ...  34.974706   \n",
       "\n",
       "              Takodana   Tatooine  Toydaria     Utapau     Vandor  \\\n",
       "Kepler-42c   38.584259  44.565142  0.246352  36.157129  37.299622   \n",
       "55 Cancri e  25.466576  21.998429  0.400297  27.072623  26.216154   \n",
       "WASP-19b      3.236296   2.770076  0.428717   3.367056   3.244436   \n",
       "WASP-43b      4.257683   3.652546  0.442107   4.453374   4.296502   \n",
       "Kepler-10b   32.459162  28.042448  0.455160  34.516880  33.427251   \n",
       "\n",
       "             Vlemoth Port      Weik     Xorrn  Yavin Prime  \n",
       "Kepler-42c       0.177065  0.182777  0.086176     4.655940  \n",
       "55 Cancri e      0.287714  0.296995  0.140028    11.958750  \n",
       "WASP-19b         0.308141  0.318081  0.149970    99.087912  \n",
       "WASP-43b         0.317765  0.328015  0.154654    74.351680  \n",
       "Kepler-10b       0.327146  0.337700  0.159220     9.375660  \n",
       "\n",
       "[5 rows x 58 columns]"
      ]
     },
     "execution_count": 5,
     "metadata": {},
     "output_type": "execute_result"
    }
   ],
   "source": [
    "#creating array with similarity rates for exoplanets with complete data\n",
    "co = exoPlanets['Orbital period [d]'] != ''\n",
    "cd = exoPlanets['Diameter [km]'] != ''\n",
    "completeExo = exoPlanets[co&cd]\n",
    "similarityDataComplete = pd.DataFrame(index=completeExo.index, data = similarity(swPlanets, completeExo))\n",
    "similarityDataComplete.head()"
   ]
  },
  {
   "cell_type": "markdown",
   "id": "493e191f",
   "metadata": {},
   "source": [
    "Now we are set. The only thing left is writing down our main course, which is similarity algorithm.\n",
    "\n",
    "With already detailed description of methodology and planned outcome (Methodology chapter), I will just jump into code itself, keeping in mind all of the nuances and steps we need to make and all of the possibilities we need to examin for the function to work properly."
   ]
  },
  {
   "cell_type": "code",
   "execution_count": 6,
   "id": "36a1b24d",
   "metadata": {},
   "outputs": [],
   "source": [
    "def find_similar(planet):\n",
    "    sim = similarityData[planet]\n",
    "    simC = similarityDataComplete[planet]\n",
    "    sorb = swPlanets.loc[planet]['Orbital period [d]']\n",
    "    sdia = swPlanets.loc[planet]['Diameter [km]']\n",
    "    simData = {planet:[sorb,sdia,100.0]}\n",
    "    notComplete = 0\n",
    "    exLen = 0\n",
    "    #loop for multiple max similarity rate values\n",
    "    for i in sim[sim==sim.max()].index:\n",
    "        eorb = exoPlanets.loc[i]['Orbital period [d]']\n",
    "        edia = exoPlanets.loc[i]['Diameter [km]']\n",
    "        simData[i] = [eorb, edia, round(sim.loc[i],1)]\n",
    "        #checking if exoplanet data is complete\n",
    "        if eorb=='' or edia =='':\n",
    "            notComplete += 1\n",
    "        exLen += 1\n",
    "    #finding additional exoplanet with complete data\n",
    "    if sorb!='' and sdia!='' and notComplete==exLen:\n",
    "        for i in simC[simC==simC.max()].index:\n",
    "            eorb = exoPlanets.loc[i]['Orbital period [d]']\n",
    "            edia = exoPlanets.loc[i]['Diameter [km]']\n",
    "            simData[i] = [eorb, edia, round(simC.loc[i],1)]\n",
    "        \n",
    "    simFrame = pd.DataFrame(index=['Orbital period [d]','Diameter [km]', 'Similarity rate [%]'], data=simData)\n",
    "    return simFrame.round(1)"
   ]
  },
  {
   "cell_type": "markdown",
   "id": "dbf078b5",
   "metadata": {},
   "source": [
    "Here it is. **The ALGORITHM**.\n",
    "\n",
    "Does it work though? Let's check some popular planets"
   ]
  },
  {
   "cell_type": "code",
   "execution_count": 7,
   "id": "ab331af9",
   "metadata": {},
   "outputs": [
    {
     "data": {
      "text/html": [
       "<div>\n",
       "<style scoped>\n",
       "    .dataframe tbody tr th:only-of-type {\n",
       "        vertical-align: middle;\n",
       "    }\n",
       "\n",
       "    .dataframe tbody tr th {\n",
       "        vertical-align: top;\n",
       "    }\n",
       "\n",
       "    .dataframe thead th {\n",
       "        text-align: right;\n",
       "    }\n",
       "</style>\n",
       "<table border=\"1\" class=\"dataframe\">\n",
       "  <thead>\n",
       "    <tr style=\"text-align: right;\">\n",
       "      <th></th>\n",
       "      <th>Tatooine</th>\n",
       "      <th>HD 59686 b</th>\n",
       "      <th>Kepler-22b</th>\n",
       "    </tr>\n",
       "  </thead>\n",
       "  <tbody>\n",
       "    <tr>\n",
       "      <th>Orbital period [d]</th>\n",
       "      <td>304.0</td>\n",
       "      <td>303.0</td>\n",
       "      <td>289.9</td>\n",
       "    </tr>\n",
       "    <tr>\n",
       "      <th>Diameter [km]</th>\n",
       "      <td>10465.0</td>\n",
       "      <td></td>\n",
       "      <td>30614.4</td>\n",
       "    </tr>\n",
       "    <tr>\n",
       "      <th>Similarity rate [%]</th>\n",
       "      <td>100.0</td>\n",
       "      <td>99.7</td>\n",
       "      <td>64.8</td>\n",
       "    </tr>\n",
       "  </tbody>\n",
       "</table>\n",
       "</div>"
      ],
      "text/plain": [
       "                     Tatooine HD 59686 b  Kepler-22b\n",
       "Orbital period [d]      304.0      303.0       289.9\n",
       "Diameter [km]         10465.0                30614.4\n",
       "Similarity rate [%]     100.0       99.7        64.8"
      ]
     },
     "execution_count": 7,
     "metadata": {},
     "output_type": "execute_result"
    }
   ],
   "source": [
    "find_similar('Tatooine')"
   ]
  },
  {
   "cell_type": "markdown",
   "id": "bd258ba9",
   "metadata": {},
   "source": [
    "**HD 59686 b** is the most similar planet to Tatooine with 99.7% similarity rate. We can see that orbital period of both of those planets is almost the same. However this planet data is incomplete, so the way I wanted this algorithm to work is to list the most similar planet with complete data. And it worked. If we consider **complete** data, the most similar planet would be Kepler-22b with 64.8% similarity rate.\n",
    "\n",
    "What about our poor* **Alderaan**?\n",
    "\n",
    "\n",
    "***SPOILER ALERT** - it was destroyed in Star Wars: A new hope :("
   ]
  },
  {
   "cell_type": "code",
   "execution_count": 8,
   "id": "2ae7692c",
   "metadata": {},
   "outputs": [
    {
     "data": {
      "text/html": [
       "<div>\n",
       "<style scoped>\n",
       "    .dataframe tbody tr th:only-of-type {\n",
       "        vertical-align: middle;\n",
       "    }\n",
       "\n",
       "    .dataframe tbody tr th {\n",
       "        vertical-align: top;\n",
       "    }\n",
       "\n",
       "    .dataframe thead th {\n",
       "        text-align: right;\n",
       "    }\n",
       "</style>\n",
       "<table border=\"1\" class=\"dataframe\">\n",
       "  <thead>\n",
       "    <tr style=\"text-align: right;\">\n",
       "      <th></th>\n",
       "      <th>Alderaan</th>\n",
       "      <th>HD 38283 b</th>\n",
       "      <th>Candidate 1</th>\n",
       "    </tr>\n",
       "  </thead>\n",
       "  <tbody>\n",
       "    <tr>\n",
       "      <th>Orbital period [d]</th>\n",
       "      <td>364.0</td>\n",
       "      <td>363.2</td>\n",
       "      <td>360.0</td>\n",
       "    </tr>\n",
       "    <tr>\n",
       "      <th>Diameter [km]</th>\n",
       "      <td>12500.0</td>\n",
       "      <td></td>\n",
       "      <td>42094.8</td>\n",
       "    </tr>\n",
       "    <tr>\n",
       "      <th>Similarity rate [%]</th>\n",
       "      <td>100.0</td>\n",
       "      <td>99.8</td>\n",
       "      <td>64.3</td>\n",
       "    </tr>\n",
       "  </tbody>\n",
       "</table>\n",
       "</div>"
      ],
      "text/plain": [
       "                     Alderaan HD 38283 b  Candidate 1\n",
       "Orbital period [d]      364.0      363.2        360.0\n",
       "Diameter [km]         12500.0                 42094.8\n",
       "Similarity rate [%]     100.0       99.8         64.3"
      ]
     },
     "execution_count": 8,
     "metadata": {},
     "output_type": "execute_result"
    }
   ],
   "source": [
    "find_similar('Alderaan')"
   ]
  },
  {
   "cell_type": "markdown",
   "id": "eb0818f5",
   "metadata": {},
   "source": [
    "Algorithm works in the same way.\n",
    "\n",
    "Now Let's check maximum possible similarity rate for both tables:"
   ]
  },
  {
   "cell_type": "code",
   "execution_count": 9,
   "id": "eab847a6",
   "metadata": {},
   "outputs": [
    {
     "data": {
      "text/html": [
       "<div>\n",
       "<style scoped>\n",
       "    .dataframe tbody tr th:only-of-type {\n",
       "        vertical-align: middle;\n",
       "    }\n",
       "\n",
       "    .dataframe tbody tr th {\n",
       "        vertical-align: top;\n",
       "    }\n",
       "\n",
       "    .dataframe thead th {\n",
       "        text-align: right;\n",
       "    }\n",
       "</style>\n",
       "<table border=\"1\" class=\"dataframe\">\n",
       "  <thead>\n",
       "    <tr style=\"text-align: right;\">\n",
       "      <th></th>\n",
       "      <th>Toydaria</th>\n",
       "      <th>41 Lyncis b</th>\n",
       "    </tr>\n",
       "  </thead>\n",
       "  <tbody>\n",
       "    <tr>\n",
       "      <th>Orbital period [d]</th>\n",
       "      <td>184.0</td>\n",
       "      <td>184.02</td>\n",
       "    </tr>\n",
       "    <tr>\n",
       "      <th>Diameter [km]</th>\n",
       "      <td></td>\n",
       "      <td></td>\n",
       "    </tr>\n",
       "    <tr>\n",
       "      <th>Similarity rate [%]</th>\n",
       "      <td>100.0</td>\n",
       "      <td>100.0</td>\n",
       "    </tr>\n",
       "  </tbody>\n",
       "</table>\n",
       "</div>"
      ],
      "text/plain": [
       "                    Toydaria 41 Lyncis b\n",
       "Orbital period [d]     184.0      184.02\n",
       "Diameter [km]                           \n",
       "Similarity rate [%]    100.0       100.0"
      ]
     },
     "execution_count": 9,
     "metadata": {},
     "output_type": "execute_result"
    }
   ],
   "source": [
    "find_similar(similarityData.max().idxmax())"
   ]
  },
  {
   "cell_type": "markdown",
   "id": "7c52ceeb",
   "metadata": {},
   "source": [
    "Suspiciously similar, wouldnt't you say?\n",
    "\n",
    "I would keep an eye on this one in case Toydorians find out about us."
   ]
  },
  {
   "cell_type": "code",
   "execution_count": 10,
   "id": "c60b7c24",
   "metadata": {},
   "outputs": [
    {
     "data": {
      "text/html": [
       "<div>\n",
       "<style scoped>\n",
       "    .dataframe tbody tr th:only-of-type {\n",
       "        vertical-align: middle;\n",
       "    }\n",
       "\n",
       "    .dataframe tbody tr th {\n",
       "        vertical-align: top;\n",
       "    }\n",
       "\n",
       "    .dataframe thead th {\n",
       "        text-align: right;\n",
       "    }\n",
       "</style>\n",
       "<table border=\"1\" class=\"dataframe\">\n",
       "  <thead>\n",
       "    <tr style=\"text-align: right;\">\n",
       "      <th></th>\n",
       "      <th>Yavin Prime</th>\n",
       "      <th>HAT-P-9b</th>\n",
       "    </tr>\n",
       "  </thead>\n",
       "  <tbody>\n",
       "    <tr>\n",
       "      <th>Orbital period [d]</th>\n",
       "      <td></td>\n",
       "      <td>3.9</td>\n",
       "    </tr>\n",
       "    <tr>\n",
       "      <th>Diameter [km]</th>\n",
       "      <td>200000.0</td>\n",
       "      <td>200177.6</td>\n",
       "    </tr>\n",
       "    <tr>\n",
       "      <th>Similarity rate [%]</th>\n",
       "      <td>100.0</td>\n",
       "      <td>99.9</td>\n",
       "    </tr>\n",
       "  </tbody>\n",
       "</table>\n",
       "</div>"
      ],
      "text/plain": [
       "                    Yavin Prime  HAT-P-9b\n",
       "Orbital period [d]                    3.9\n",
       "Diameter [km]          200000.0  200177.6\n",
       "Similarity rate [%]       100.0      99.9"
      ]
     },
     "execution_count": 10,
     "metadata": {},
     "output_type": "execute_result"
    }
   ],
   "source": [
    "find_similar(similarityDataComplete.max().idxmax())"
   ]
  },
  {
   "cell_type": "markdown",
   "id": "39498095",
   "metadata": {},
   "source": [
    "99.9% similarity in complete exoplanets data set is a lot. Sadly, we don't have complete data about **Yavin Prime**. Maybe one day.\n",
    "\n",
    "Anyway - our algorithm works! That's amazing news!\n",
    "\n",
    "We are ready to jump into data analysis chapter."
   ]
  },
  {
   "cell_type": "markdown",
   "id": "f0064c5d",
   "metadata": {},
   "source": [
    "## 5. Data analysis"
   ]
  },
  {
   "cell_type": "markdown",
   "id": "27b47205",
   "metadata": {},
   "source": [
    "Since we already have some decent data prepared and calculated, we can analyse some aspects of them. In order to do that I will start with creating **Closest Planets** dataframe, which will contain data about Star Wars planets (index), the closest (most similar) planet (for all exoplanets data) and similarity rates for those planets. We will display the outcome sorted by similarity rate."
   ]
  },
  {
   "cell_type": "code",
   "execution_count": 11,
   "id": "6eb1ef3b",
   "metadata": {},
   "outputs": [
    {
     "data": {
      "text/html": [
       "<div>\n",
       "<style scoped>\n",
       "    .dataframe tbody tr th:only-of-type {\n",
       "        vertical-align: middle;\n",
       "    }\n",
       "\n",
       "    .dataframe tbody tr th {\n",
       "        vertical-align: top;\n",
       "    }\n",
       "\n",
       "    .dataframe thead th {\n",
       "        text-align: right;\n",
       "    }\n",
       "</style>\n",
       "<table border=\"1\" class=\"dataframe\">\n",
       "  <thead>\n",
       "    <tr style=\"text-align: right;\">\n",
       "      <th></th>\n",
       "      <th>Closest planet</th>\n",
       "      <th>Similarity rate [%]</th>\n",
       "    </tr>\n",
       "  </thead>\n",
       "  <tbody>\n",
       "    <tr>\n",
       "      <th>Dagobah</th>\n",
       "      <td>HD 192699 b</td>\n",
       "      <td>100.0</td>\n",
       "    </tr>\n",
       "    <tr>\n",
       "      <th>Kashyyyk</th>\n",
       "      <td>HD 20868 b</td>\n",
       "      <td>100.0</td>\n",
       "    </tr>\n",
       "    <tr>\n",
       "      <th>Toydaria</th>\n",
       "      <td>41 Lyncis b</td>\n",
       "      <td>100.0</td>\n",
       "    </tr>\n",
       "    <tr>\n",
       "      <th>Cato Neimoidia</th>\n",
       "      <td>Kepler-22b</td>\n",
       "      <td>99.9</td>\n",
       "    </tr>\n",
       "    <tr>\n",
       "      <th>Hoth</th>\n",
       "      <td>HD 4113 b</td>\n",
       "      <td>99.9</td>\n",
       "    </tr>\n",
       "  </tbody>\n",
       "</table>\n",
       "</div>"
      ],
      "text/plain": [
       "               Closest planet  Similarity rate [%]\n",
       "Dagobah           HD 192699 b                100.0\n",
       "Kashyyyk           HD 20868 b                100.0\n",
       "Toydaria          41 Lyncis b                100.0\n",
       "Cato Neimoidia     Kepler-22b                 99.9\n",
       "Hoth                HD 4113 b                 99.9"
      ]
     },
     "execution_count": 11,
     "metadata": {},
     "output_type": "execute_result"
    }
   ],
   "source": [
    "closestList = []\n",
    "closestRate = []\n",
    "for i in similarityData.columns:\n",
    "    closestList.append(similarityData[i].idxmax())\n",
    "    closestRate.append(round(similarityData[i].max(),1))\n",
    "    \n",
    "closestData = {'Closest planet':closestList, 'Similarity rate [%]':closestRate}\n",
    "closestPlanets = pd.DataFrame(index=similarityData.columns, data=closestData).sort_values('Similarity rate [%]', ascending=False)\n",
    "closestPlanets.head()"
   ]
  },
  {
   "cell_type": "markdown",
   "id": "f82bd853",
   "metadata": {},
   "source": [
    "Now we will do the same, but filtering our data to only those planets, which contain information about both **orbital period** and **diameter**, creating **Complete Data Planets** dataframe. We will sort the data by similarity rate as well."
   ]
  },
  {
   "cell_type": "code",
   "execution_count": 12,
   "id": "b45982b6",
   "metadata": {},
   "outputs": [
    {
     "data": {
      "text/html": [
       "<div>\n",
       "<style scoped>\n",
       "    .dataframe tbody tr th:only-of-type {\n",
       "        vertical-align: middle;\n",
       "    }\n",
       "\n",
       "    .dataframe tbody tr th {\n",
       "        vertical-align: top;\n",
       "    }\n",
       "\n",
       "    .dataframe thead th {\n",
       "        text-align: right;\n",
       "    }\n",
       "</style>\n",
       "<table border=\"1\" class=\"dataframe\">\n",
       "  <thead>\n",
       "    <tr style=\"text-align: right;\">\n",
       "      <th></th>\n",
       "      <th>Closest planet</th>\n",
       "      <th>Similarity rate [%]</th>\n",
       "    </tr>\n",
       "  </thead>\n",
       "  <tbody>\n",
       "    <tr>\n",
       "      <th>Takodana</th>\n",
       "      <td>Kepler-1544 b</td>\n",
       "      <td>65.9</td>\n",
       "    </tr>\n",
       "    <tr>\n",
       "      <th>Tatooine</th>\n",
       "      <td>Kepler-22b</td>\n",
       "      <td>64.8</td>\n",
       "    </tr>\n",
       "    <tr>\n",
       "      <th>Batuu</th>\n",
       "      <td>Candidate 1</td>\n",
       "      <td>64.5</td>\n",
       "    </tr>\n",
       "    <tr>\n",
       "      <th>Alderaan</th>\n",
       "      <td>Candidate 1</td>\n",
       "      <td>64.3</td>\n",
       "    </tr>\n",
       "    <tr>\n",
       "      <th>Utapau</th>\n",
       "      <td>Candidate 1</td>\n",
       "      <td>64.1</td>\n",
       "    </tr>\n",
       "  </tbody>\n",
       "</table>\n",
       "</div>"
      ],
      "text/plain": [
       "         Closest planet  Similarity rate [%]\n",
       "Takodana  Kepler-1544 b                 65.9\n",
       "Tatooine     Kepler-22b                 64.8\n",
       "Batuu       Candidate 1                 64.5\n",
       "Alderaan    Candidate 1                 64.3\n",
       "Utapau      Candidate 1                 64.1"
      ]
     },
     "execution_count": 12,
     "metadata": {},
     "output_type": "execute_result"
    }
   ],
   "source": [
    "swd = swPlanets['Diameter [km]']!=''\n",
    "swo = swPlanets['Orbital period [d]']!=''\n",
    "swComplete = swPlanets[swd&swo]\n",
    "allComplete = pd.DataFrame(index=completeExo.index, data = similarity(swComplete, completeExo))\n",
    "completeList = []\n",
    "completeRate = []\n",
    "\n",
    "for i in allComplete.columns:\n",
    "    completeList.append(allComplete[i].idxmax())\n",
    "    completeRate.append(round(allComplete[i].max(),1))\n",
    "    \n",
    "completeData = {'Closest planet':completeList, 'Similarity rate [%]':completeRate}\n",
    "completeDataPlanets = pd.DataFrame(index=allComplete.columns, data=completeData).sort_values('Similarity rate [%]', ascending=False)\n",
    "completeDataPlanets.head()"
   ]
  },
  {
   "cell_type": "markdown",
   "id": "c36b24e2",
   "metadata": {},
   "source": [
    "As expected, similarity rates are noticeably lower. This information is much more valuable though.\n",
    "\n",
    "Let's make some charts now. I want to see **how many similar planets we have for different similarity level**.\n",
    "\n",
    "Are most of them very similar? Or just few?"
   ]
  },
  {
   "cell_type": "code",
   "execution_count": 13,
   "id": "806b80e5",
   "metadata": {},
   "outputs": [
    {
     "data": {
      "image/png": "[encoded data removed]",
      "text/plain": [
       "<Figure size 1152x576 with 1 Axes>"
      ]
     },
     "metadata": {
      "needs_background": "light"
     },
     "output_type": "display_data"
    }
   ],
   "source": [
    "#rounding the data because we will operate with round ranges in chart\n",
    "ccf = round(completeDataPlanets['Similarity rate [%]'])\n",
    "icf = round(closestPlanets['Similarity rate [%]'])\n",
    "#creating range values (from - to)\n",
    "fromVal = [0,11,21,31,41,51,61,71,81,91]\n",
    "toVal = [10,20,30,40,50,60,70,80,90,100]\n",
    "complete = []\n",
    "incomplete = []\n",
    "\n",
    "#calculating the number of values that fit between certain ranges\n",
    "for i,j in zip(fromVal,toVal): \n",
    "    complete.append(len(ccf[ccf.between(i,j)]))\n",
    "    incomplete.append(len(icf[icf.between(i,j)]))\n",
    "    \n",
    "labels = [str(i)+'-'+str(j)+'%' for i,j in zip(fromVal,toVal)]\n",
    "w = .3\n",
    "x = np.arange(len(labels))\n",
    "\n",
    "plt.figure(figsize=(16,8))\n",
    "plt.bar(x-w/2, complete, w, label='complete data', color='#00cccc')\n",
    "plt.bar(x+w/2, incomplete, w, label='all data', color='#c653c6')\n",
    "plt.legend(loc='upper left')\n",
    "plt.xticks(x,labels)\n",
    "plt.ylabel('Number of planets')\n",
    "plt.xlabel('Similarity level')\n",
    "plt.title('Levels of similarity with exoplanets')\n",
    "for i in range(len(labels)):\n",
    "    plt.text(i-w/2, complete[i],complete[i],ha='center',va='bottom',size=13)\n",
    "    plt.text(i+w/2, incomplete[i],incomplete[i],ha='center',va='bottom',size=13)\n",
    "plt.show()"
   ]
  },
  {
   "cell_type": "markdown",
   "id": "9662a5ca",
   "metadata": {},
   "source": [
    "As we can see, similarity rate **tend to be high if we consider all available data** (it's easier to find a \"match\" where the is only one data to compare). This is actually what we expected, but it's interesting nontheless.\n",
    "\n",
    "If we consider only planets with complete set of data, situation is different. Similarity levels are within 41-70% range, although most of them (24 out of 32) exceedes 50% threshold.\n",
    "\n",
    "Since similarity rate in all data set is exceptionaly high, I wonder **how many planets with rally high similarity (>90%) each Star Wars planet have**. It's fairly easy to check, so let's do it:"
   ]
  },
  {
   "cell_type": "code",
   "execution_count": 14,
   "id": "bfc5d7e4",
   "metadata": {},
   "outputs": [
    {
     "data": {
      "image/png": "[encoded data removed]",
      "text/plain": [
       "<Figure size 720x1440 with 1 Axes>"
      ]
     },
     "metadata": {
      "needs_background": "light"
     },
     "output_type": "display_data"
    }
   ],
   "source": [
    "highSimilarityList = []\n",
    "\n",
    "#calculating number of similarity rates higher than 90 for each Star Wars planet\n",
    "for i in similarityData.columns:\n",
    "    pdata = similarityData[i]\n",
    "    highSimilarityList.append(len(pdata[pdata>90.0]))\n",
    "    \n",
    "highSimilarity = pd.DataFrame(index=similarityData.columns, columns=['similarity >90%'], data=highSimilarityList)\n",
    "highSimilarity.sort_values(['similarity >90%'], inplace=True)\n",
    "ax = highSimilarity.plot.barh(figsize=(10,20), legend=False)\n",
    "ax.set_title('Number of planets with similarity >90%')\n",
    "for i in range(len(highSimilarity.index)):\n",
    "    ax.text(highSimilarity['similarity >90%'][i], i, highSimilarity['similarity >90%'][i], va='center')\n",
    "plt.show()"
   ]
  },
  {
   "cell_type": "markdown",
   "id": "46d5d04f",
   "metadata": {},
   "source": [
    "Oh hello **Yavin Prime**, there are **39 planets** that could be you.  \n",
    "Or maybe just your data is somehow universal. Let's check the details again:"
   ]
  },
  {
   "cell_type": "code",
   "execution_count": 15,
   "id": "1e168e69",
   "metadata": {},
   "outputs": [
    {
     "data": {
      "text/html": [
       "<div>\n",
       "<style scoped>\n",
       "    .dataframe tbody tr th:only-of-type {\n",
       "        vertical-align: middle;\n",
       "    }\n",
       "\n",
       "    .dataframe tbody tr th {\n",
       "        vertical-align: top;\n",
       "    }\n",
       "\n",
       "    .dataframe thead th {\n",
       "        text-align: right;\n",
       "    }\n",
       "</style>\n",
       "<table border=\"1\" class=\"dataframe\">\n",
       "  <thead>\n",
       "    <tr style=\"text-align: right;\">\n",
       "      <th></th>\n",
       "      <th>Yavin Prime</th>\n",
       "      <th>HAT-P-9b</th>\n",
       "    </tr>\n",
       "  </thead>\n",
       "  <tbody>\n",
       "    <tr>\n",
       "      <th>Orbital period [d]</th>\n",
       "      <td></td>\n",
       "      <td>3.9</td>\n",
       "    </tr>\n",
       "    <tr>\n",
       "      <th>Diameter [km]</th>\n",
       "      <td>200000.0</td>\n",
       "      <td>200177.6</td>\n",
       "    </tr>\n",
       "    <tr>\n",
       "      <th>Similarity rate [%]</th>\n",
       "      <td>100.0</td>\n",
       "      <td>99.9</td>\n",
       "    </tr>\n",
       "  </tbody>\n",
       "</table>\n",
       "</div>"
      ],
      "text/plain": [
       "                    Yavin Prime  HAT-P-9b\n",
       "Orbital period [d]                    3.9\n",
       "Diameter [km]          200000.0  200177.6\n",
       "Similarity rate [%]       100.0      99.9"
      ]
     },
     "execution_count": 15,
     "metadata": {},
     "output_type": "execute_result"
    }
   ],
   "source": [
    "find_similar('Yavin Prime')"
   ]
  },
  {
   "cell_type": "markdown",
   "id": "be7a10d8",
   "metadata": {},
   "source": [
    "Yavin Prime has only one value that describes it - **diameter**. There are apparently many exoplanets with **similar size**, which is interesting. The most similar one is **HAT-P-9b** with 99.9% similarity rate.\n",
    "\n",
    "The other thing that I noticed is that some of the exoplanets appear more than once in our list of the most similar ones. **How many unique values of each exoplanet do we have** in our Closet Planets and All Data Planets tables?"
   ]
  },
  {
   "cell_type": "code",
   "execution_count": 16,
   "id": "6350f316",
   "metadata": {},
   "outputs": [
    {
     "name": "stdout",
     "output_type": "stream",
     "text": [
      "Star Wars planets: 58\n",
      "Similar exoplanets: 39\n",
      "Star Wars planets (complete data): 31\n",
      "Similar exoplanets (complete data): 8\n"
     ]
    }
   ],
   "source": [
    "iswp = len(closestPlanets.index)\n",
    "swp = len(completeDataPlanets.index)\n",
    "icd = len(closestPlanets['Closest planet'].unique())\n",
    "cd = len(completeDataPlanets['Closest planet'].unique())\n",
    "print('''Star Wars planets: {}\n",
    "Similar exoplanets: {}\n",
    "Star Wars planets (complete data): {}\n",
    "Similar exoplanets (complete data): {}'''.format(iswp,icd,swp,cd))"
   ]
  },
  {
   "cell_type": "markdown",
   "id": "b51a15f3",
   "metadata": {},
   "source": [
    "Exactly. We have 58 Star Wars planets but only 39 exoplanets in Closest planets table.  \n",
    "Even less unique exoplanets (8) for each Star Wars planet (31) in All Data Planets table.  \n",
    "Which planets are **the most popular** then?"
   ]
  },
  {
   "cell_type": "code",
   "execution_count": 17,
   "id": "e6bb43fc",
   "metadata": {},
   "outputs": [
    {
     "data": {
      "image/png": "[encoded data removed]",
      "text/plain": [
       "<Figure size 720x1440 with 1 Axes>"
      ]
     },
     "metadata": {
      "needs_background": "light"
     },
     "output_type": "display_data"
    }
   ],
   "source": [
    "closestValues = closestPlanets['Closest planet'].value_counts(ascending=True)\n",
    "ax = closestValues.plot(kind='barh', figsize=(10,20), color='#c653c6')\n",
    "ax.set_title('Similar exoplanets - number of representations')\n",
    "for i in range(len(closestValues.index)):\n",
    "    ax.text(closestValues[i], i, closestValues[i], va='center')\n",
    "plt.show()"
   ]
  },
  {
   "cell_type": "markdown",
   "id": "918c7dca",
   "metadata": {},
   "source": [
    "Datails about **HD 38283 b** representation:"
   ]
  },
  {
   "cell_type": "code",
   "execution_count": 18,
   "id": "ad173ea8",
   "metadata": {},
   "outputs": [
    {
     "data": {
      "text/html": [
       "<div>\n",
       "<style scoped>\n",
       "    .dataframe tbody tr th:only-of-type {\n",
       "        vertical-align: middle;\n",
       "    }\n",
       "\n",
       "    .dataframe tbody tr th {\n",
       "        vertical-align: top;\n",
       "    }\n",
       "\n",
       "    .dataframe thead th {\n",
       "        text-align: right;\n",
       "    }\n",
       "</style>\n",
       "<table border=\"1\" class=\"dataframe\">\n",
       "  <thead>\n",
       "    <tr style=\"text-align: right;\">\n",
       "      <th></th>\n",
       "      <th>Closest planet</th>\n",
       "      <th>Similarity rate [%]</th>\n",
       "    </tr>\n",
       "  </thead>\n",
       "  <tbody>\n",
       "    <tr>\n",
       "      <th>Alderaan</th>\n",
       "      <td>HD 38283 b</td>\n",
       "      <td>99.8</td>\n",
       "    </tr>\n",
       "    <tr>\n",
       "      <th>Batuu</th>\n",
       "      <td>HD 38283 b</td>\n",
       "      <td>99.5</td>\n",
       "    </tr>\n",
       "    <tr>\n",
       "      <th>Coruscant</th>\n",
       "      <td>HD 38283 b</td>\n",
       "      <td>99.5</td>\n",
       "    </tr>\n",
       "    <tr>\n",
       "      <th>Mandalore</th>\n",
       "      <td>HD 38283 b</td>\n",
       "      <td>99.2</td>\n",
       "    </tr>\n",
       "    <tr>\n",
       "      <th>Rodia</th>\n",
       "      <td>HD 38283 b</td>\n",
       "      <td>98.6</td>\n",
       "    </tr>\n",
       "  </tbody>\n",
       "</table>\n",
       "</div>"
      ],
      "text/plain": [
       "          Closest planet  Similarity rate [%]\n",
       "Alderaan      HD 38283 b                 99.8\n",
       "Batuu         HD 38283 b                 99.5\n",
       "Coruscant     HD 38283 b                 99.5\n",
       "Mandalore     HD 38283 b                 99.2\n",
       "Rodia         HD 38283 b                 98.6"
      ]
     },
     "execution_count": 18,
     "metadata": {},
     "output_type": "execute_result"
    }
   ],
   "source": [
    "closestPlanets[closestPlanets['Closest planet']=='HD 38283 b'].sort_values(['Similarity rate [%]'], ascending=False)"
   ]
  },
  {
   "cell_type": "code",
   "execution_count": 19,
   "id": "5caf29e2",
   "metadata": {},
   "outputs": [
    {
     "data": {
      "image/png": "[encoded data removed]",
      "text/plain": [
       "<Figure size 720x432 with 1 Axes>"
      ]
     },
     "metadata": {
      "needs_background": "light"
     },
     "output_type": "display_data"
    }
   ],
   "source": [
    "closestValuesComplete = completeDataPlanets['Closest planet'].value_counts(ascending=True)\n",
    "ax = closestValuesComplete.plot(kind='barh', figsize=(10,6), color='#00cccc')\n",
    "ax.set_title('Similar exoplanets (complete data) - number of representations')\n",
    "for i in range(len(closestValuesComplete.index)):\n",
    "    ax.text(closestValuesComplete[i], i, closestValuesComplete[i], va='center')\n",
    "plt.show()"
   ]
  },
  {
   "cell_type": "markdown",
   "id": "adefd29b",
   "metadata": {},
   "source": [
    "Datails about **Candidate 1** representation:"
   ]
  },
  {
   "cell_type": "code",
   "execution_count": 20,
   "id": "6b12927f",
   "metadata": {},
   "outputs": [
    {
     "data": {
      "text/html": [
       "<div>\n",
       "<style scoped>\n",
       "    .dataframe tbody tr th:only-of-type {\n",
       "        vertical-align: middle;\n",
       "    }\n",
       "\n",
       "    .dataframe tbody tr th {\n",
       "        vertical-align: top;\n",
       "    }\n",
       "\n",
       "    .dataframe thead th {\n",
       "        text-align: right;\n",
       "    }\n",
       "</style>\n",
       "<table border=\"1\" class=\"dataframe\">\n",
       "  <thead>\n",
       "    <tr style=\"text-align: right;\">\n",
       "      <th></th>\n",
       "      <th>Closest planet</th>\n",
       "      <th>Similarity rate [%]</th>\n",
       "    </tr>\n",
       "  </thead>\n",
       "  <tbody>\n",
       "    <tr>\n",
       "      <th>Batuu</th>\n",
       "      <td>Candidate 1</td>\n",
       "      <td>64.5</td>\n",
       "    </tr>\n",
       "    <tr>\n",
       "      <th>Alderaan</th>\n",
       "      <td>Candidate 1</td>\n",
       "      <td>64.3</td>\n",
       "    </tr>\n",
       "    <tr>\n",
       "      <th>Utapau</th>\n",
       "      <td>Candidate 1</td>\n",
       "      <td>64.1</td>\n",
       "    </tr>\n",
       "    <tr>\n",
       "      <th>Coruscant</th>\n",
       "      <td>Candidate 1</td>\n",
       "      <td>63.9</td>\n",
       "    </tr>\n",
       "    <tr>\n",
       "      <th>Kashyyyk</th>\n",
       "      <td>Candidate 1</td>\n",
       "      <td>62.4</td>\n",
       "    </tr>\n",
       "    <tr>\n",
       "      <th>Pasaana</th>\n",
       "      <td>Candidate 1</td>\n",
       "      <td>60.8</td>\n",
       "    </tr>\n",
       "    <tr>\n",
       "      <th>Mandalore</th>\n",
       "      <td>Candidate 1</td>\n",
       "      <td>60.1</td>\n",
       "    </tr>\n",
       "    <tr>\n",
       "      <th>Rodia</th>\n",
       "      <td>Candidate 1</td>\n",
       "      <td>57.8</td>\n",
       "    </tr>\n",
       "    <tr>\n",
       "      <th>Dantooine</th>\n",
       "      <td>Candidate 1</td>\n",
       "      <td>57.4</td>\n",
       "    </tr>\n",
       "    <tr>\n",
       "      <th>Vandor</th>\n",
       "      <td>Candidate 1</td>\n",
       "      <td>56.2</td>\n",
       "    </tr>\n",
       "    <tr>\n",
       "      <th>Onderon</th>\n",
       "      <td>Candidate 1</td>\n",
       "      <td>56.1</td>\n",
       "    </tr>\n",
       "    <tr>\n",
       "      <th>D'Qar</th>\n",
       "      <td>Candidate 1</td>\n",
       "      <td>55.7</td>\n",
       "    </tr>\n",
       "    <tr>\n",
       "      <th>Jakku</th>\n",
       "      <td>Candidate 1</td>\n",
       "      <td>53.4</td>\n",
       "    </tr>\n",
       "    <tr>\n",
       "      <th>Mustafar</th>\n",
       "      <td>Candidate 1</td>\n",
       "      <td>43.7</td>\n",
       "    </tr>\n",
       "  </tbody>\n",
       "</table>\n",
       "</div>"
      ],
      "text/plain": [
       "          Closest planet  Similarity rate [%]\n",
       "Batuu        Candidate 1                 64.5\n",
       "Alderaan     Candidate 1                 64.3\n",
       "Utapau       Candidate 1                 64.1\n",
       "Coruscant    Candidate 1                 63.9\n",
       "Kashyyyk     Candidate 1                 62.4\n",
       "Pasaana      Candidate 1                 60.8\n",
       "Mandalore    Candidate 1                 60.1\n",
       "Rodia        Candidate 1                 57.8\n",
       "Dantooine    Candidate 1                 57.4\n",
       "Vandor       Candidate 1                 56.2\n",
       "Onderon      Candidate 1                 56.1\n",
       "D'Qar        Candidate 1                 55.7\n",
       "Jakku        Candidate 1                 53.4\n",
       "Mustafar     Candidate 1                 43.7"
      ]
     },
     "execution_count": 20,
     "metadata": {},
     "output_type": "execute_result"
    }
   ],
   "source": [
    "completeDataPlanets[completeDataPlanets['Closest planet']=='Candidate 1'].sort_values(['Similarity rate [%]'], ascending=False)"
   ]
  },
  {
   "cell_type": "markdown",
   "id": "8ad34fbe",
   "metadata": {},
   "source": [
    "Here we have it. The most popular exoplanet from all exoplanet data is **HD 38283 b** (most similar planet for 5 Star Wars planets) and **Candidate 1** for planets with complete set of data (astounding result of 14 representations as most similar planet)."
   ]
  },
  {
   "cell_type": "markdown",
   "id": "739b99c4",
   "metadata": {},
   "source": [
    "## 6. Summary"
   ]
  },
  {
   "cell_type": "markdown",
   "id": "2b0a30f1",
   "metadata": {},
   "source": [
    "We did it. We finally managed to create algorithm calculating similarities between Star Wars planets and real life exoplanets, bringing us a step closer to answering the question:\n",
    "\n",
    "**Could Star Wars planets exist in our universe?**\n",
    "\n",
    "Who knows. Sky is the limit to our imagination. Or rather galaxy, especially this far, far away...\n",
    "\n",
    "The short analysis I conducted showed us that there are many similarities and many exoplanets that have some (or all) properies that are really close to those from planets existing in Star Wars universe. The planets worth mentioning are **Toydaria** (100% similarity to **41 Lyncis b**) and **Yavin Prime** (99.9% similarity to **HAT-P-9b** and 39 planets with similarity >90%).\n",
    "\n",
    "However we have to keep in mind, that the high similarity rates values are caused by lack of data. After analysing set of planets with complete data, the highest similarity rate turned out to be **65.9%** (Takodana to Kepler-1544 b similarity). The more data we have, the more accurate comparision we can make. Based on available information though, presented charts and tables are the most accurate outcome we can have at that moment.\n",
    "\n",
    "Thank you for your time and attention, I hope you enjoyed this analysis as much as I did.\n",
    "\n",
    "I hope I'll see you again in the ones yet to come!"
   ]
  }
 ],
 "metadata": {
  "kernelspec": {
   "display_name": "Python 3 (ipykernel)",
   "language": "python",
   "name": "python3"
  },
  "language_info": {
   "codemirror_mode": {
    "name": "ipython",
    "version": 3
   },
   "file_extension": ".py",
   "mimetype": "text/x-python",
   "name": "python",
   "nbconvert_exporter": "python",
   "pygments_lexer": "ipython3",
   "version": "3.12.7"
  }
 },
 "nbformat": 4,
 "nbformat_minor": 5
}
